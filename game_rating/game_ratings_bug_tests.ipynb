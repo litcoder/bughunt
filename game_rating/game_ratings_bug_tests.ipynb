{
 "cells": [
  {
   "cell_type": "markdown",
   "id": "8c30f77d",
   "metadata": {},
   "source": [
    "\n",
    "# Unit Tests\n",
    "\n",
    "이 노트북은 `game_ratings_analyzer.py`에 포함된 **10개의 의도적 버그**를 테스트하는 단위 테스트 모음입니다.\n",
    "각 셀은 하나의 버그를 노출시키는 테스트 코드로 구성되어 있습니다.\n"
   ]
  },
  {
   "cell_type": "code",
   "execution_count": null,
   "id": "53fb3349",
   "metadata": {},
   "outputs": [],
   "source": [
    "\n",
    "# ✅ Bug 1: Path normalization fails for Unix absolute paths\n",
    "from game_ratings_analyzer import normalize_path\n",
    "\n",
    "print(normalize_path(\"/home/user\\\\data\\\\game_ratings.csv\"))  # 예상: /home/user/data/game_ratings.csv\n"
   ]
  },
  {
   "cell_type": "code",
   "execution_count": null,
   "id": "a3f830d9",
   "metadata": {},
   "outputs": [],
   "source": [
    "\n",
    "# ✅ Bug 2: is_valid_rating fails with string input\n",
    "from game_ratings_analyzer import is_valid_rating\n",
    "\n",
    "print(is_valid_rating(\"9\"))  # TypeError 발생 예상\n"
   ]
  },
  {
   "cell_type": "code",
   "execution_count": null,
   "id": "b051520b",
   "metadata": {},
   "outputs": [],
   "source": [
    "\n",
    "# ✅ Bug 3: File open without try/except\n",
    "from game_ratings_analyzer import read_ratings\n",
    "\n",
    "read_ratings(\"non_existent_file.csv\")  # FileNotFoundError 예상\n"
   ]
  },
  {
   "cell_type": "code",
   "execution_count": null,
   "id": "ed08fc3d",
   "metadata": {},
   "outputs": [],
   "source": [
    "\n",
    "# ✅ Bug 4: Non-numeric rating parsing\n",
    "import csv\n",
    "from io import StringIO\n",
    "\n",
    "csv_data = '''title,genre,rating\n",
    "Fake Game,RPG,not_a_number\n",
    "'''\n",
    "\n",
    "with open(\"temp.csv\", \"w\", encoding=\"utf-8\") as f:\n",
    "    f.write(csv_data)\n",
    "\n",
    "read_ratings(\"temp.csv\")  # ValueError 발생 예상\n"
   ]
  },
  {
   "cell_type": "code",
   "execution_count": null,
   "id": "55365ff9",
   "metadata": {},
   "outputs": [],
   "source": [
    "\n",
    "# ✅ Bug 5: Accepting empty titles\n",
    "csv_data = '''title,genre,rating\n",
    ",Strategy,8\n",
    "'''\n",
    "\n",
    "with open(\"temp.csv\", \"w\", encoding=\"utf-8\") as f:\n",
    "    f.write(csv_data)\n",
    "\n",
    "print(read_ratings(\"temp.csv\"))  # 키가 빈 문자열인 항목이 포함되어야 함\n"
   ]
  },
  {
   "cell_type": "code",
   "execution_count": null,
   "id": "4cedf8f7",
   "metadata": {},
   "outputs": [],
   "source": [
    "\n",
    "# ✅ Bug 6: Division by zero for empty score list\n",
    "from game_ratings_analyzer import generate_report\n",
    "\n",
    "ratings = {\"Empty Game\": []}\n",
    "generate_report(ratings, 1)  # ZeroDivisionError 발생 예상\n"
   ]
  },
  {
   "cell_type": "code",
   "execution_count": null,
   "id": "05dff887",
   "metadata": {},
   "outputs": [],
   "source": [
    "\n",
    "# ✅ Bug 7: IndexError when top_n > len(ratings)\n",
    "ratings = {\n",
    "    \"Game A\": [10],\n",
    "    \"Game B\": [9]\n",
    "}\n",
    "generate_report(ratings, 5)  # IndexError 발생 예상\n"
   ]
  },
  {
   "cell_type": "code",
   "execution_count": null,
   "id": "3cbb1674",
   "metadata": {},
   "outputs": [],
   "source": [
    "\n",
    "# ✅ Bug 8: Tie detection is wrong\n",
    "ratings = {\n",
    "    \"Game A\": [9],\n",
    "    \"Game B\": [8],\n",
    "    \"Game C\": [9]\n",
    "}\n",
    "generate_report(ratings, 3)  # 동점 여부 잘못 출력됨\n"
   ]
  },
  {
   "cell_type": "code",
   "execution_count": null,
   "id": "545836b7",
   "metadata": {},
   "outputs": [],
   "source": [
    "\n",
    "# ✅ Bug 9: Hardcoded Windows-style path\n",
    "print(normalize_path(\"data\\\\game_ratings.csv\"))  # Unix에서는 잘못된 경로\n"
   ]
  },
  {
   "cell_type": "code",
   "execution_count": null,
   "id": "bdcbd833",
   "metadata": {},
   "outputs": [],
   "source": [
    "\n",
    "# ✅ Bug 10: Fixed top_n too high\n",
    "ratings = {\n",
    "    \"Game A\": [10]\n",
    "}\n",
    "generate_report(ratings, 10)  # IndexError 발생 예상\n"
   ]
  }
 ],
 "metadata": {
  "language_info": {
   "name": "python"
  }
 },
 "nbformat": 4,
 "nbformat_minor": 5
}
