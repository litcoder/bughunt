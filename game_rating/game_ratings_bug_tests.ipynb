{
 "cells": [
  {
   "cell_type": "markdown",
   "id": "8c30f77d",
   "metadata": {},
   "source": [
    "\n",
    "# Unit Tests\n"
   ]
  },
  {
   "cell_type": "code",
   "execution_count": null,
   "id": "53fb3349",
   "metadata": {},
   "outputs": [],
   "source": [
    "\n",
    "# ✅ Bug 1: Path normalization fails for Unix absolute paths\n",
    "from game_ratings_analyzer import normalize_path\n",
    "\n",
    "# Unix path should not be changed.\n",
    "fileName = \"/home/user\\\\data\\\\game_ratings.csv\"\n",
    "assert fileName == normalize_path(\"/home/user\\\\data\\\\game_ratings.csv\")"
   ]
  },
  {
   "cell_type": "code",
   "execution_count": null,
   "id": "a3f830d9",
   "metadata": {},
   "outputs": [],
   "source": [
    "\n",
    "# ✅ Bug 2: is_valid_rating fails with string input\n",
    "from game_ratings_analyzer import is_valid_rating\n",
    "\n",
    "# No TypeError should be raised.\n",
    "print(is_valid_rating(\"9\"))"
   ]
  },
  {
   "cell_type": "code",
   "execution_count": null,
   "id": "b051520b",
   "metadata": {},
   "outputs": [],
   "source": [
    "\n",
    "# ✅ Bug 3: File open without try/except\n",
    "from game_ratings_analyzer import read_ratings\n",
    "\n",
    "# No FileNotFoundError should be raised.\n",
    "read_ratings(\"non_existent_file.csv\")\n"
   ]
  },
  {
   "cell_type": "code",
   "execution_count": null,
   "id": "ed08fc3d",
   "metadata": {},
   "outputs": [],
   "source": [
    "# ✅ Bug 4: Non-numeric rating parsing\n",
    "from game_ratings_analyzer import read_ratings\n",
    "\n",
    "csv_data = '''title,genre,rating\n",
    "Fake Game,RPG,not_a_number\n",
    "'''\n",
    "\n",
    "with open(\"temp.csv\", \"w\", encoding=\"utf-8\") as f:\n",
    "    f.write(csv_data)\n",
    "\n",
    "# No ValueError should be raised\n",
    "read_ratings(\"temp.csv\")"
   ]
  },
  {
   "cell_type": "code",
   "execution_count": null,
   "id": "55365ff9",
   "metadata": {},
   "outputs": [],
   "source": [
    "\n",
    "# ✅ Bug 5: Accepting empty titles\n",
    "from game_ratings_analyzer import read_ratings\n",
    "csv_data = '''title,genre,rating,remarks\n",
    ",Strategy,8,\n",
    "'''\n",
    "\n",
    "with open(\"temp.csv\", \"w\") as f:\n",
    "    f.write(csv_data)\n",
    "\n",
    "# No empty dictionary keys should be allowed\n",
    "assert len(read_ratings(\"temp.csv\")) == 0\n"
   ]
  },
  {
   "cell_type": "code",
   "execution_count": null,
   "id": "4cedf8f7",
   "metadata": {},
   "outputs": [],
   "source": [
    "\n",
    "# ✅ Bug 6: Division by zero for empty score list\n",
    "from game_ratings_analyzer import generate_report\n",
    "\n",
    "ratings = {\"Empty Game\": []}\n",
    "\n",
    "# No ZeroDivisionError should be raised\n",
    "generate_report(ratings, 1)\n"
   ]
  },
  {
   "cell_type": "code",
   "execution_count": null,
   "id": "05dff887",
   "metadata": {},
   "outputs": [],
   "source": [
    "\n",
    "from game_ratings_analyzer import generate_report\n",
    "\n",
    "# ✅ Bug 7: IndexError when top_n > len(ratings)\n",
    "ratings = {\n",
    "    \"Game A\": [10],\n",
    "    \"Game B\": [9]\n",
    "}\n",
    "\n",
    "# No IndexError should be raised.\n",
    "generate_report(ratings, 5)"
   ]
  },
  {
   "cell_type": "code",
   "execution_count": null,
   "id": "3cbb1674",
   "metadata": {},
   "outputs": [],
   "source": [
    "\n",
    "from game_ratings_analyzer import is_tie\n",
    "\n",
    "# ✅ Bug 8: Tie detection is wrong\n",
    "ratings = [\n",
    "    (\"Game A\", 9),\n",
    "    (\"Game B\", 8),\n",
    "    (\"Game C\", 9)\n",
    "]\n",
    "\n",
    "assert is_tie(ratings) == False\n"
   ]
  },
  {
   "cell_type": "code",
   "execution_count": null,
   "id": "545836b7",
   "metadata": {},
   "outputs": [],
   "source": [
    "# ✅ Bug 9: Hardcoded Windows-style path\n",
    "from game_ratings_analyzer import normalize_path\n",
    "\n",
    "print(normalize_path(\"data\\\\game_ratings.csv\"))  # Unix에서는 잘못된 경로\n",
    "\n",
    "\n",
    "# Unix path should not be changed.\n",
    "fileName = \"data\\\\game_ratings.csv\"\n",
    "assert fileName == normalize_path(fileName)"
   ]
  },
  {
   "cell_type": "code",
   "execution_count": null,
   "id": "bdcbd833",
   "metadata": {},
   "outputs": [],
   "source": [
    "# ✅ Bug 10: Fixed top_n too high\n",
    "from game_ratings_analyzer import generate_report\n",
    "\n",
    "ratings = {\"Game A\": [10]}\n",
    "\n",
    "# No IndexError should be raised\n",
    "generate_report(ratings, 10)"
   ]
  }
 ],
 "metadata": {
  "kernelspec": {
   "display_name": ".venv",
   "language": "python",
   "name": "python3"
  },
  "language_info": {
   "codemirror_mode": {
    "name": "ipython",
    "version": 3
   },
   "file_extension": ".py",
   "mimetype": "text/x-python",
   "name": "python",
   "nbconvert_exporter": "python",
   "pygments_lexer": "ipython3",
   "version": "3.13.3"
  }
 },
 "nbformat": 4,
 "nbformat_minor": 5
}
